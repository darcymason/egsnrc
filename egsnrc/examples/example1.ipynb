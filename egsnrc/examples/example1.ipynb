{
  "cells": [
    {
      "cell_type": "markdown",
      "metadata": {
        "id": "view-in-github",
        "colab_type": "text"
      },
      "source": [
        "<a href=\"https://colab.research.google.com/github/darcymason/egsnrc/blob/photon1/egsnrc/examples/example1.ipynb\" target=\"_parent\"><img src=\"https://colab.research.google.com/assets/colab-badge.svg\" alt=\"Open In Colab\"/></a>"
      ]
    },
    {
      "cell_type": "code",
      "execution_count": 1,
      "metadata": {
        "colab": {
          "base_uri": "https://localhost:8080/"
        },
        "id": "UVP7QyUZYJCw",
        "outputId": "49e13e63-927e-4912-c550-a5aa248e1e15"
      },
      "outputs": [
        {
          "output_type": "stream",
          "name": "stdout",
          "text": [
            "Looking in indexes: https://pypi.org/simple, https://us-python.pkg.dev/colab-wheels/public/simple/\n",
            "Obtaining file:///content/drive/MyDrive/git/egsnrc\n",
            "  Preparing metadata (setup.py) ... \u001b[?25l\u001b[?25hdone\n",
            "Installing collected packages: egsnrc\n",
            "  Running setup.py develop for egsnrc\n",
            "Successfully installed egsnrc-0.1.0.dev0\n"
          ]
        }
      ],
      "source": [
        "!python -m pip install -e drive/MyDrive/git/egsnrc\n",
        "import os, sys\n",
        "\n",
        "path = \"/content/drive/MyDrive/git/egsnrc\"\n",
        "if path not in sys.path:\n",
        "    sys.path.append(path)"
      ]
    },
    {
      "cell_type": "code",
      "execution_count": null,
      "metadata": {
        "id": "O6-P0PyjZUw9",
        "colab": {
          "base_uri": "https://localhost:8080/"
        },
        "outputId": "02462308-32c5-466e-b242-2a75cefb5464"
      },
      "outputs": [
        {
          "output_type": "stream",
          "name": "stdout",
          "text": [
            "Looking in indexes: https://pypi.org/simple, https://us-python.pkg.dev/colab-wheels/public/simple/\n",
            "Collecting cuda-python\n",
            "  Downloading cuda_python-12.0.0-cp38-cp38-manylinux_2_17_x86_64.manylinux2014_x86_64.whl (17.0 MB)\n",
            "\u001b[2K     \u001b[90m━━━━━━━━━━━━━━━━━━━━━━━━━━━━━━━━━━━━━━━━\u001b[0m \u001b[32m17.0/17.0 MB\u001b[0m \u001b[31m52.8 MB/s\u001b[0m eta \u001b[36m0:00:00\u001b[0m\n",
            "\u001b[?25hRequirement already satisfied: cython in /usr/local/lib/python3.8/dist-packages (from cuda-python) (0.29.32)\n",
            "Installing collected packages: cuda-python\n",
            "Successfully installed cuda-python-12.0.0\n"
          ]
        }
      ],
      "source": [
        "!pip install cuda-python"
      ]
    },
    {
      "cell_type": "code",
      "execution_count": 7,
      "metadata": {
        "id": "0HX2fha7PjOb",
        "colab": {
          "base_uri": "https://localhost:8080/"
        },
        "outputId": "200f44dd-33c7-4707-854a-317504ea2434"
      },
      "outputs": [
        {
          "output_type": "stream",
          "name": "stdout",
          "text": [
            "init\n",
            "call driver api: cuInit\n",
            "/usr/local/lib/python3.8/dist-packages/numba/cuda/dispatcher.py:488: NumbaPerformanceWarning: Grid size 20 will likely result in GPU under-utilization due to low occupancy.\n",
            "  warn(NumbaPerformanceWarning(msg))\n",
            "/usr/local/lib/python3.8/dist-packages/numba/cuda/cudadrv/devicearray.py:885: NumbaPerformanceWarning: Host array used in CUDA kernel will incur copy overhead to/from device.\n",
            "  warn(NumbaPerformanceWarning(msg))\n",
            "Energy Total by Region\n",
            "Region 1----\n",
            "Compton:  2664.8624915480614\n",
            "Photo  :  4134.118601500988\n",
            "Energy Total by Region\n",
            "Region 2----\n",
            "Compton:  102.26871387660503\n",
            "Photo  :  1.002677846699953\n",
            "Sums:  Compt: 2767.131103515625, Photo 4135.12109375, Lost 624.1878051757812\n",
            "Energy in : 7526.440238773823\n",
            "Energy out: 7526.440002441406\n"
          ]
        }
      ],
      "source": [
        "!python /content/drive/MyDrive/git/egsnrc/egsnrc/examples/example1.py 10000\n"
      ]
    }
  ],
  "metadata": {
    "accelerator": "GPU",
    "colab": {
      "provenance": [],
      "mount_file_id": "111dl4lidHv-C3RGCIk8PK-ncj1sR8iUi",
      "authorship_tag": "ABX9TyOQ1M4wKpEyw+rN3K3bw6Pz",
      "include_colab_link": true
    },
    "gpuClass": "standard",
    "kernelspec": {
      "display_name": "Python 3",
      "name": "python3"
    },
    "language_info": {
      "name": "python"
    }
  },
  "nbformat": 4,
  "nbformat_minor": 0
}